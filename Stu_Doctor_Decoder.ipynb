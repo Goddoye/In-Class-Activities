{
 "cells": [
  {
   "cell_type": "markdown",
   "metadata": {
    "deletable": false,
    "editable": false,
    "nbgrader": {
     "checksum": "80deef871f3dd9885af08c6806d209e7",
     "grade": false,
     "grade_id": "cell-dd2ddeba9033880b",
     "locked": true,
     "schema_version": 1,
     "solution": false
    },
    "slideshow": {
     "slide_type": "slide"
    }
   },
   "source": [
    "# Doctor Decoder\n",
    "\n",
    "Use Pandas scraping to help decode the medical abbreviations that a doctor might use."
   ]
  },
  {
   "cell_type": "code",
   "execution_count": 1,
   "metadata": {
    "deletable": false,
    "editable": false,
    "nbgrader": {
     "checksum": "80494e593aea05796f290c7a6a12b613",
     "grade": false,
     "grade_id": "cell-6c50ad7ad28aba2e",
     "locked": true,
     "schema_version": 1,
     "solution": false
    },
    "slideshow": {
     "slide_type": "slide"
    }
   },
   "outputs": [],
   "source": [
    "import pandas as pd"
   ]
  },
  {
   "cell_type": "markdown",
   "metadata": {
    "deletable": false,
    "editable": false,
    "nbgrader": {
     "checksum": "269bf4982930f5d7043b0551d640e23f",
     "grade": false,
     "grade_id": "cell-cb7d2e5f8ff89b71",
     "locked": true,
     "schema_version": 1,
     "solution": false
    }
   },
   "source": [
    "Use Pandas to scrape the following site and decode the medical abbreviations in the list"
   ]
  },
  {
   "cell_type": "code",
   "execution_count": 2,
   "metadata": {
    "deletable": false,
    "editable": false,
    "nbgrader": {
     "checksum": "a5c7c51eb9a3c045985f064031976fdf",
     "grade": false,
     "grade_id": "cell-f4f4e6cacd73a092",
     "locked": true,
     "schema_version": 1,
     "solution": false
    },
    "slideshow": {
     "slide_type": "fragment"
    }
   },
   "outputs": [],
   "source": [
    "url = 'https://en.wikipedia.org/wiki/List_of_medical_abbreviations'\n",
    "med_abbreviations = ['BMR', 'BP', 'ECG', 'MRI', 'qid', 'WBC']"
   ]
  },
  {
   "cell_type": "code",
   "execution_count": 3,
   "metadata": {
    "deletable": false,
    "nbgrader": {
     "checksum": "61b3b006177ac9242698f1ffacfd23b5",
     "grade": false,
     "grade_id": "cell-a71ede958957992c",
     "locked": false,
     "schema_version": 1,
     "solution": true
    },
    "slideshow": {
     "slide_type": "fragment"
    }
   },
   "outputs": [
    {
     "data": {
      "text/html": [
       "<div>\n",
       "<style scoped>\n",
       "    .dataframe tbody tr th:only-of-type {\n",
       "        vertical-align: middle;\n",
       "    }\n",
       "\n",
       "    .dataframe tbody tr th {\n",
       "        vertical-align: top;\n",
       "    }\n",
       "\n",
       "    .dataframe thead th {\n",
       "        text-align: right;\n",
       "    }\n",
       "</style>\n",
       "<table border=\"1\" class=\"dataframe\">\n",
       "  <thead>\n",
       "    <tr style=\"text-align: right;\">\n",
       "      <th></th>\n",
       "      <th>0</th>\n",
       "      <th>1</th>\n",
       "      <th>2</th>\n",
       "    </tr>\n",
       "  </thead>\n",
       "  <tbody>\n",
       "    <tr>\n",
       "      <td>0</td>\n",
       "      <td>EG abb</td>\n",
       "      <td>EG full name</td>\n",
       "      <td>Other(ver change, need to know...etc.)</td>\n",
       "    </tr>\n",
       "    <tr>\n",
       "      <td>1</td>\n",
       "      <td>ABG</td>\n",
       "      <td>arterial blood gas</td>\n",
       "      <td>NaN</td>\n",
       "    </tr>\n",
       "    <tr>\n",
       "      <td>2</td>\n",
       "      <td>ACE</td>\n",
       "      <td>angiotensin-converting enzyme</td>\n",
       "      <td>NaN</td>\n",
       "    </tr>\n",
       "    <tr>\n",
       "      <td>3</td>\n",
       "      <td>ACTH</td>\n",
       "      <td>adrenocorticotropic hormone</td>\n",
       "      <td>NaN</td>\n",
       "    </tr>\n",
       "    <tr>\n",
       "      <td>4</td>\n",
       "      <td>ADH</td>\n",
       "      <td>antidiuretic hormone</td>\n",
       "      <td>NaN</td>\n",
       "    </tr>\n",
       "    <tr>\n",
       "      <td>...</td>\n",
       "      <td>...</td>\n",
       "      <td>...</td>\n",
       "      <td>...</td>\n",
       "    </tr>\n",
       "    <tr>\n",
       "      <td>172</td>\n",
       "      <td>μL</td>\n",
       "      <td>microliter</td>\n",
       "      <td>NaN</td>\n",
       "    </tr>\n",
       "    <tr>\n",
       "      <td>173</td>\n",
       "      <td>μm</td>\n",
       "      <td>micrometer</td>\n",
       "      <td>also name micron</td>\n",
       "    </tr>\n",
       "    <tr>\n",
       "      <td>174</td>\n",
       "      <td>μmol</td>\n",
       "      <td>micromole</td>\n",
       "      <td>NaN</td>\n",
       "    </tr>\n",
       "    <tr>\n",
       "      <td>175</td>\n",
       "      <td>μOsm</td>\n",
       "      <td>micro-osmole</td>\n",
       "      <td>NaN</td>\n",
       "    </tr>\n",
       "    <tr>\n",
       "      <td>176</td>\n",
       "      <td>mμ</td>\n",
       "      <td>millimicron</td>\n",
       "      <td>also name nanometer</td>\n",
       "    </tr>\n",
       "  </tbody>\n",
       "</table>\n",
       "<p>177 rows × 3 columns</p>\n",
       "</div>"
      ],
      "text/plain": [
       "          0                              1  \\\n",
       "0    EG abb                   EG full name   \n",
       "1       ABG             arterial blood gas   \n",
       "2       ACE  angiotensin-converting enzyme   \n",
       "3      ACTH    adrenocorticotropic hormone   \n",
       "4       ADH           antidiuretic hormone   \n",
       "..      ...                            ...   \n",
       "172      μL                     microliter   \n",
       "173      μm                     micrometer   \n",
       "174    μmol                      micromole   \n",
       "175    μOsm                   micro-osmole   \n",
       "176      mμ                    millimicron   \n",
       "\n",
       "                                          2  \n",
       "0    Other(ver change, need to know...etc.)  \n",
       "1                                       NaN  \n",
       "2                                       NaN  \n",
       "3                                       NaN  \n",
       "4                                       NaN  \n",
       "..                                      ...  \n",
       "172                                     NaN  \n",
       "173                        also name micron  \n",
       "174                                     NaN  \n",
       "175                                     NaN  \n",
       "176                     also name nanometer  \n",
       "\n",
       "[177 rows x 3 columns]"
      ]
     },
     "execution_count": 3,
     "metadata": {},
     "output_type": "execute_result"
    }
   ],
   "source": [
    "# Use Panda's `read_html` to parse the url\n",
    "# YOUR CODE HERE\n",
    "tables = pd.read_html(url)\n",
    "tables[2]"
   ]
  },
  {
   "cell_type": "code",
   "execution_count": 4,
   "metadata": {
    "deletable": false,
    "nbgrader": {
     "checksum": "47c040e92f3f18a76bb024054b967f44",
     "grade": false,
     "grade_id": "cell-316da8cb3354a1e2",
     "locked": false,
     "schema_version": 1,
     "solution": true
    },
    "slideshow": {
     "slide_type": "fragment"
    }
   },
   "outputs": [
    {
     "data": {
      "text/html": [
       "<div>\n",
       "<style scoped>\n",
       "    .dataframe tbody tr th:only-of-type {\n",
       "        vertical-align: middle;\n",
       "    }\n",
       "\n",
       "    .dataframe tbody tr th {\n",
       "        vertical-align: top;\n",
       "    }\n",
       "\n",
       "    .dataframe thead th {\n",
       "        text-align: right;\n",
       "    }\n",
       "</style>\n",
       "<table border=\"1\" class=\"dataframe\">\n",
       "  <thead>\n",
       "    <tr style=\"text-align: right;\">\n",
       "      <th></th>\n",
       "      <th>abb</th>\n",
       "      <th>full_name</th>\n",
       "      <th>other</th>\n",
       "    </tr>\n",
       "  </thead>\n",
       "  <tbody>\n",
       "    <tr>\n",
       "      <td>0</td>\n",
       "      <td>EG abb</td>\n",
       "      <td>EG full name</td>\n",
       "      <td>Other(ver change, need to know...etc.)</td>\n",
       "    </tr>\n",
       "    <tr>\n",
       "      <td>1</td>\n",
       "      <td>ABG</td>\n",
       "      <td>arterial blood gas</td>\n",
       "      <td>NaN</td>\n",
       "    </tr>\n",
       "    <tr>\n",
       "      <td>2</td>\n",
       "      <td>ACE</td>\n",
       "      <td>angiotensin-converting enzyme</td>\n",
       "      <td>NaN</td>\n",
       "    </tr>\n",
       "    <tr>\n",
       "      <td>3</td>\n",
       "      <td>ACTH</td>\n",
       "      <td>adrenocorticotropic hormone</td>\n",
       "      <td>NaN</td>\n",
       "    </tr>\n",
       "    <tr>\n",
       "      <td>4</td>\n",
       "      <td>ADH</td>\n",
       "      <td>antidiuretic hormone</td>\n",
       "      <td>NaN</td>\n",
       "    </tr>\n",
       "  </tbody>\n",
       "</table>\n",
       "</div>"
      ],
      "text/plain": [
       "      abb                      full_name  \\\n",
       "0  EG abb                   EG full name   \n",
       "1     ABG             arterial blood gas   \n",
       "2     ACE  angiotensin-converting enzyme   \n",
       "3    ACTH    adrenocorticotropic hormone   \n",
       "4     ADH           antidiuretic hormone   \n",
       "\n",
       "                                    other  \n",
       "0  Other(ver change, need to know...etc.)  \n",
       "1                                     NaN  \n",
       "2                                     NaN  \n",
       "3                                     NaN  \n",
       "4                                     NaN  "
      ]
     },
     "execution_count": 4,
     "metadata": {},
     "output_type": "execute_result"
    }
   ],
   "source": [
    "# Find the medical abbreviations DataFrame in the list of DataFrames as assign it to `df`\n",
    "# Assign the columns `['abb', 'full_name', 'other']`\n",
    "# YOUR CODE HERE\n",
    "df = tables[2]\n",
    "df.columns = ['abb', 'full_name', 'other']\n",
    "df.head()"
   ]
  },
  {
   "cell_type": "markdown",
   "metadata": {
    "deletable": false,
    "editable": false,
    "nbgrader": {
     "checksum": "6b0c3ac2d9beb595fbe40a6ed6f0caf8",
     "grade": false,
     "grade_id": "cell-20d93171b74375bb",
     "locked": true,
     "schema_version": 1,
     "solution": false
    },
    "slideshow": {
     "slide_type": "subslide"
    }
   },
   "source": [
    "Cleanup of extra row"
   ]
  },
  {
   "cell_type": "code",
   "execution_count": 5,
   "metadata": {
    "deletable": false,
    "nbgrader": {
     "checksum": "99dc744627d5133d4bb8a1636f19c738",
     "grade": false,
     "grade_id": "cell-cde33910996decbd",
     "locked": false,
     "schema_version": 1,
     "solution": true
    }
   },
   "outputs": [
    {
     "data": {
      "text/html": [
       "<div>\n",
       "<style scoped>\n",
       "    .dataframe tbody tr th:only-of-type {\n",
       "        vertical-align: middle;\n",
       "    }\n",
       "\n",
       "    .dataframe tbody tr th {\n",
       "        vertical-align: top;\n",
       "    }\n",
       "\n",
       "    .dataframe thead th {\n",
       "        text-align: right;\n",
       "    }\n",
       "</style>\n",
       "<table border=\"1\" class=\"dataframe\">\n",
       "  <thead>\n",
       "    <tr style=\"text-align: right;\">\n",
       "      <th></th>\n",
       "      <th>abb</th>\n",
       "      <th>full_name</th>\n",
       "    </tr>\n",
       "  </thead>\n",
       "  <tbody>\n",
       "    <tr>\n",
       "      <td>0</td>\n",
       "      <td>EG abb</td>\n",
       "      <td>EG full name</td>\n",
       "    </tr>\n",
       "    <tr>\n",
       "      <td>1</td>\n",
       "      <td>ABG</td>\n",
       "      <td>arterial blood gas</td>\n",
       "    </tr>\n",
       "    <tr>\n",
       "      <td>2</td>\n",
       "      <td>ACE</td>\n",
       "      <td>angiotensin-converting enzyme</td>\n",
       "    </tr>\n",
       "    <tr>\n",
       "      <td>3</td>\n",
       "      <td>ACTH</td>\n",
       "      <td>adrenocorticotropic hormone</td>\n",
       "    </tr>\n",
       "    <tr>\n",
       "      <td>4</td>\n",
       "      <td>ADH</td>\n",
       "      <td>antidiuretic hormone</td>\n",
       "    </tr>\n",
       "    <tr>\n",
       "      <td>...</td>\n",
       "      <td>...</td>\n",
       "      <td>...</td>\n",
       "    </tr>\n",
       "    <tr>\n",
       "      <td>172</td>\n",
       "      <td>μL</td>\n",
       "      <td>microliter</td>\n",
       "    </tr>\n",
       "    <tr>\n",
       "      <td>173</td>\n",
       "      <td>μm</td>\n",
       "      <td>micrometer</td>\n",
       "    </tr>\n",
       "    <tr>\n",
       "      <td>174</td>\n",
       "      <td>μmol</td>\n",
       "      <td>micromole</td>\n",
       "    </tr>\n",
       "    <tr>\n",
       "      <td>175</td>\n",
       "      <td>μOsm</td>\n",
       "      <td>micro-osmole</td>\n",
       "    </tr>\n",
       "    <tr>\n",
       "      <td>176</td>\n",
       "      <td>mμ</td>\n",
       "      <td>millimicron</td>\n",
       "    </tr>\n",
       "  </tbody>\n",
       "</table>\n",
       "<p>177 rows × 2 columns</p>\n",
       "</div>"
      ],
      "text/plain": [
       "        abb                      full_name\n",
       "0    EG abb                   EG full name\n",
       "1       ABG             arterial blood gas\n",
       "2       ACE  angiotensin-converting enzyme\n",
       "3      ACTH    adrenocorticotropic hormone\n",
       "4       ADH           antidiuretic hormone\n",
       "..      ...                            ...\n",
       "172      μL                     microliter\n",
       "173      μm                     micrometer\n",
       "174    μmol                      micromole\n",
       "175    μOsm                   micro-osmole\n",
       "176      mμ                    millimicron\n",
       "\n",
       "[177 rows x 2 columns]"
      ]
     },
     "execution_count": 5,
     "metadata": {},
     "output_type": "execute_result"
    }
   ],
   "source": [
    "# drop the `other` column\n",
    "# YOUR CODE HERE\n",
    "df.drop('other', axis =1 ,inplace=True)\n",
    "df"
   ]
  },
  {
   "cell_type": "code",
   "execution_count": 6,
   "metadata": {},
   "outputs": [
    {
     "data": {
      "text/html": [
       "<div>\n",
       "<style scoped>\n",
       "    .dataframe tbody tr th:only-of-type {\n",
       "        vertical-align: middle;\n",
       "    }\n",
       "\n",
       "    .dataframe tbody tr th {\n",
       "        vertical-align: top;\n",
       "    }\n",
       "\n",
       "    .dataframe thead th {\n",
       "        text-align: right;\n",
       "    }\n",
       "</style>\n",
       "<table border=\"1\" class=\"dataframe\">\n",
       "  <thead>\n",
       "    <tr style=\"text-align: right;\">\n",
       "      <th></th>\n",
       "      <th>abb</th>\n",
       "      <th>full_name</th>\n",
       "    </tr>\n",
       "  </thead>\n",
       "  <tbody>\n",
       "    <tr>\n",
       "      <td>0</td>\n",
       "      <td>EG abb</td>\n",
       "      <td>EG full name</td>\n",
       "    </tr>\n",
       "    <tr>\n",
       "      <td>1</td>\n",
       "      <td>ABG</td>\n",
       "      <td>arterial blood gas</td>\n",
       "    </tr>\n",
       "    <tr>\n",
       "      <td>2</td>\n",
       "      <td>ACE</td>\n",
       "      <td>angiotensin-converting enzyme</td>\n",
       "    </tr>\n",
       "    <tr>\n",
       "      <td>3</td>\n",
       "      <td>ACTH</td>\n",
       "      <td>adrenocorticotropic hormone</td>\n",
       "    </tr>\n",
       "    <tr>\n",
       "      <td>4</td>\n",
       "      <td>ADH</td>\n",
       "      <td>antidiuretic hormone</td>\n",
       "    </tr>\n",
       "    <tr>\n",
       "      <td>...</td>\n",
       "      <td>...</td>\n",
       "      <td>...</td>\n",
       "    </tr>\n",
       "    <tr>\n",
       "      <td>172</td>\n",
       "      <td>μL</td>\n",
       "      <td>microliter</td>\n",
       "    </tr>\n",
       "    <tr>\n",
       "      <td>173</td>\n",
       "      <td>μm</td>\n",
       "      <td>micrometer</td>\n",
       "    </tr>\n",
       "    <tr>\n",
       "      <td>174</td>\n",
       "      <td>μmol</td>\n",
       "      <td>micromole</td>\n",
       "    </tr>\n",
       "    <tr>\n",
       "      <td>175</td>\n",
       "      <td>μOsm</td>\n",
       "      <td>micro-osmole</td>\n",
       "    </tr>\n",
       "    <tr>\n",
       "      <td>176</td>\n",
       "      <td>mμ</td>\n",
       "      <td>millimicron</td>\n",
       "    </tr>\n",
       "  </tbody>\n",
       "</table>\n",
       "<p>177 rows × 2 columns</p>\n",
       "</div>"
      ],
      "text/plain": [
       "        abb                      full_name\n",
       "0    EG abb                   EG full name\n",
       "1       ABG             arterial blood gas\n",
       "2       ACE  angiotensin-converting enzyme\n",
       "3      ACTH    adrenocorticotropic hormone\n",
       "4       ADH           antidiuretic hormone\n",
       "..      ...                            ...\n",
       "172      μL                     microliter\n",
       "173      μm                     micrometer\n",
       "174    μmol                      micromole\n",
       "175    μOsm                   micro-osmole\n",
       "176      mμ                    millimicron\n",
       "\n",
       "[177 rows x 2 columns]"
      ]
     },
     "execution_count": 6,
     "metadata": {},
     "output_type": "execute_result"
    }
   ],
   "source": [
    "df"
   ]
  },
  {
   "cell_type": "code",
   "execution_count": 7,
   "metadata": {
    "deletable": false,
    "nbgrader": {
     "checksum": "663c0bc4bb208a815c81b13fae7821b0",
     "grade": false,
     "grade_id": "cell-1df09a2e03a3b973",
     "locked": false,
     "schema_version": 1,
     "solution": true
    },
    "slideshow": {
     "slide_type": "fragment"
    }
   },
   "outputs": [
    {
     "data": {
      "text/html": [
       "<div>\n",
       "<style scoped>\n",
       "    .dataframe tbody tr th:only-of-type {\n",
       "        vertical-align: middle;\n",
       "    }\n",
       "\n",
       "    .dataframe tbody tr th {\n",
       "        vertical-align: top;\n",
       "    }\n",
       "\n",
       "    .dataframe thead th {\n",
       "        text-align: right;\n",
       "    }\n",
       "</style>\n",
       "<table border=\"1\" class=\"dataframe\">\n",
       "  <thead>\n",
       "    <tr style=\"text-align: right;\">\n",
       "      <th></th>\n",
       "      <th>full_name</th>\n",
       "    </tr>\n",
       "    <tr>\n",
       "      <th>abb</th>\n",
       "      <th></th>\n",
       "    </tr>\n",
       "  </thead>\n",
       "  <tbody>\n",
       "    <tr>\n",
       "      <td>ABG</td>\n",
       "      <td>arterial blood gas</td>\n",
       "    </tr>\n",
       "    <tr>\n",
       "      <td>ACE</td>\n",
       "      <td>angiotensin-converting enzyme</td>\n",
       "    </tr>\n",
       "    <tr>\n",
       "      <td>ACTH</td>\n",
       "      <td>adrenocorticotropic hormone</td>\n",
       "    </tr>\n",
       "    <tr>\n",
       "      <td>ADH</td>\n",
       "      <td>antidiuretic hormone</td>\n",
       "    </tr>\n",
       "    <tr>\n",
       "      <td>AED</td>\n",
       "      <td>automated external defibrillator</td>\n",
       "    </tr>\n",
       "  </tbody>\n",
       "</table>\n",
       "</div>"
      ],
      "text/plain": [
       "                             full_name\n",
       "abb                                   \n",
       "ABG                 arterial blood gas\n",
       "ACE      angiotensin-converting enzyme\n",
       "ACTH       adrenocorticotropic hormone\n",
       "ADH               antidiuretic hormone\n",
       "AED   automated external defibrillator"
      ]
     },
     "execution_count": 7,
     "metadata": {},
     "output_type": "execute_result"
    }
   ],
   "source": [
    "# Drop the first row and set the index to the `abb` column\n",
    "# YOUR CODE HERE\n",
    "df = df.iloc[1:]\n",
    "df.set_index('abb', inplace=True)\n",
    "df.head()"
   ]
  },
  {
   "cell_type": "code",
   "execution_count": 14,
   "metadata": {
    "deletable": false,
    "nbgrader": {
     "checksum": "4002e5e60e1810a494081a36e7aa9060",
     "grade": false,
     "grade_id": "cell-3e6a547da7c5f934",
     "locked": false,
     "schema_version": 1,
     "solution": true
    }
   },
   "outputs": [
    {
     "name": "stdout",
     "output_type": "stream",
     "text": [
      "BMR basal metabolic rate\n",
      "BP blood pressure\n",
      "ECG electrocardiogram\n",
      "MRI magnetic resonance imaging\n",
      "qid 4 times a day\n",
      "WBC white blood cell\n"
     ]
    }
   ],
   "source": [
    "# Loop through the list of medical abbreviations and print the abbreviation\n",
    "# along with the full description.\n",
    "# Use the DataFrame to perform the lookup.\n",
    "# YOUR CODE HERE\n",
    "for abb in med_abbreviations:\n",
    "    print(abb, df.loc[abb].full_name)"
   ]
  }
 ],
 "metadata": {
  "kernelspec": {
   "display_name": "Python 3",
   "language": "python",
   "name": "python3"
  },
  "language_info": {
   "codemirror_mode": {
    "name": "ipython",
    "version": 3
   },
   "file_extension": ".py",
   "mimetype": "text/x-python",
   "name": "python",
   "nbconvert_exporter": "python",
   "pygments_lexer": "ipython3",
   "version": "3.7.4"
  }
 },
 "nbformat": 4,
 "nbformat_minor": 2
}
