{
 "cells": [
  {
   "cell_type": "code",
   "execution_count": 3,
   "metadata": {},
   "outputs": [
    {
     "name": "stdout",
     "output_type": "stream",
     "text": [
      "'http://www.omdbapi.com/?apikey=Trilogy&t='\n"
     ]
    }
   ],
   "source": [
    "# Dependencies\n",
    "import requests\n",
    "from config import api_key\n",
    "from pprint import pprint\n",
    "url = f\"http://www.omdbapi.com/?apikey={api_key}&t=\"\n",
    "pprint(url)"
   ]
  },
  {
   "cell_type": "code",
   "execution_count": 28,
   "metadata": {},
   "outputs": [
    {
     "name": "stdout",
     "output_type": "stream",
     "text": [
      "{'Actors': 'Sigourney Weaver, Carrie Henn, Michael Biehn, Paul Reiser',\n",
      " 'Awards': 'Won 2 Oscars. Another 18 wins & 22 nominations.',\n",
      " 'BoxOffice': 'N/A',\n",
      " 'Country': 'USA, UK',\n",
      " 'DVD': '01 Jun 1999',\n",
      " 'Director': 'James Cameron',\n",
      " 'Genre': 'Action, Adventure, Sci-Fi, Thriller',\n",
      " 'Language': 'English',\n",
      " 'Metascore': '84',\n",
      " 'Plot': 'Ellen Ripley is rescued by a deep salvage team after being in '\n",
      "         'hypersleep for 57 years. The moon that the Nostromo visited has been '\n",
      "         'colonized, but contact is lost. This time, colonial marines have '\n",
      "         'impressive firepower, but will that be enough?',\n",
      " 'Poster': 'https://m.media-amazon.com/images/M/MV5BZGU2OGY5ZTYtMWNhYy00NjZiLWI0NjUtZmNhY2JhNDRmODU3XkEyXkFqcGdeQXVyNzkwMjQ5NzM@._V1_SX300.jpg',\n",
      " 'Production': '20th Century Fox',\n",
      " 'Rated': 'R',\n",
      " 'Ratings': [{'Source': 'Internet Movie Database', 'Value': '8.4/10'},\n",
      "             {'Source': 'Rotten Tomatoes', 'Value': '99%'},\n",
      "             {'Source': 'Metacritic', 'Value': '84/100'}],\n",
      " 'Released': '18 Jul 1986',\n",
      " 'Response': 'True',\n",
      " 'Runtime': '137 min',\n",
      " 'Title': 'Aliens',\n",
      " 'Type': 'movie',\n",
      " 'Website': 'https://www.foxmovies.com/movies/aliens',\n",
      " 'Writer': 'James Cameron (story by), David Giler (story by), Walter Hill '\n",
      "           \"(story by), Dan O'Bannon (based on characters created by), Ronald \"\n",
      "           'Shusett (based on characters created by), James Cameron '\n",
      "           '(screenplay by)',\n",
      " 'Year': '1986',\n",
      " 'imdbID': 'tt0090605',\n",
      " 'imdbRating': '8.4',\n",
      " 'imdbVotes': '607,299'}\n"
     ]
    }
   ],
   "source": [
    "# Who was the director of the movie Aliens?\n",
    "url1='http://www.omdbapi.com/?apikey=Trilogy&t=\"Aliens\"'\n",
    "data=requests.get(url1).json()\n",
    "pprint(data)"
   ]
  },
  {
   "cell_type": "code",
   "execution_count": 29,
   "metadata": {},
   "outputs": [
    {
     "name": "stdout",
     "output_type": "stream",
     "text": [
      "James Cameron\n"
     ]
    }
   ],
   "source": [
    "print(data['Director'])"
   ]
  },
  {
   "cell_type": "code",
   "execution_count": 31,
   "metadata": {
    "scrolled": true
   },
   "outputs": [
    {
     "name": "stdout",
     "output_type": "stream",
     "text": [
      "{'Actors': 'Russell Crowe, Joaquin Phoenix, Connie Nielsen, Oliver Reed',\n",
      " 'Awards': 'Won 5 Oscars. Another 53 wins & 101 nominations.',\n",
      " 'BoxOffice': 'N/A',\n",
      " 'Country': 'USA, UK, Malta, Morocco',\n",
      " 'DVD': '21 Nov 2000',\n",
      " 'Director': 'Ridley Scott',\n",
      " 'Genre': 'Action, Adventure, Drama',\n",
      " 'Language': 'English',\n",
      " 'Metascore': '67',\n",
      " 'Plot': 'A former Roman General sets out to exact vengeance against the '\n",
      "         'corrupt emperor who murdered his family and sent him into slavery.',\n",
      " 'Poster': 'https://m.media-amazon.com/images/M/MV5BMDliMmNhNDEtODUyOS00MjNlLTgxODEtN2U3NzIxMGVkZTA1L2ltYWdlXkEyXkFqcGdeQXVyNjU0OTQ0OTY@._V1_SX300.jpg',\n",
      " 'Production': 'Dreamworks Distribution LLC',\n",
      " 'Rated': 'R',\n",
      " 'Ratings': [{'Source': 'Internet Movie Database', 'Value': '8.5/10'},\n",
      "             {'Source': 'Rotten Tomatoes', 'Value': '76%'},\n",
      "             {'Source': 'Metacritic', 'Value': '67/100'}],\n",
      " 'Released': '05 May 2000',\n",
      " 'Response': 'True',\n",
      " 'Runtime': '155 min',\n",
      " 'Title': 'Gladiator',\n",
      " 'Type': 'movie',\n",
      " 'Website': 'http://www.gladiator-thefilm.com',\n",
      " 'Writer': 'David Franzoni (story), David Franzoni (screenplay), John Logan '\n",
      "           '(screenplay), William Nicholson (screenplay)',\n",
      " 'Year': '2000',\n",
      " 'imdbID': 'tt0172495',\n",
      " 'imdbRating': '8.5',\n",
      " 'imdbVotes': '1,228,963'}\n"
     ]
    }
   ],
   "source": [
    "# What was the movie Gladiator rated?\n",
    "url2='http://www.omdbapi.com/?apikey=Trilogy&t=\"Gladiator\"'\n",
    "data1=requests.get(url2).json()\n",
    "pprint(data1)"
   ]
  },
  {
   "cell_type": "code",
   "execution_count": 32,
   "metadata": {},
   "outputs": [
    {
     "name": "stdout",
     "output_type": "stream",
     "text": [
      "R\n"
     ]
    }
   ],
   "source": [
    "print(data1['Rated'])"
   ]
  },
  {
   "cell_type": "code",
   "execution_count": 34,
   "metadata": {},
   "outputs": [
    {
     "name": "stdout",
     "output_type": "stream",
     "text": [
      "{'Actors': 'Adam Sandler, Drew Barrymore, Rob Schneider, Sean Astin',\n",
      " 'Awards': '6 wins & 10 nominations.',\n",
      " 'BoxOffice': '$120,776,832',\n",
      " 'Country': 'USA',\n",
      " 'DVD': '15 Jun 2004',\n",
      " 'Director': 'Peter Segal',\n",
      " 'Genre': 'Comedy, Drama, Romance',\n",
      " 'Language': 'English, Hawaiian, Mandarin, None',\n",
      " 'Metascore': '48',\n",
      " 'Plot': 'Henry Roth is a man afraid of commitment up until he meets the '\n",
      "         \"beautiful Lucy. They hit it off and Henry think he's finally found \"\n",
      "         'the girl of his dreams, until he discovers she has short-term memory '\n",
      "         'loss and forgets him the next day.',\n",
      " 'Poster': 'https://m.media-amazon.com/images/M/MV5BMjAwMzc4MDgxNF5BMl5BanBnXkFtZTYwNjUwMzE3._V1_SX300.jpg',\n",
      " 'Production': 'Sony Pictures',\n",
      " 'Rated': 'PG-13',\n",
      " 'Ratings': [{'Source': 'Internet Movie Database', 'Value': '6.8/10'},\n",
      "             {'Source': 'Rotten Tomatoes', 'Value': '45%'},\n",
      "             {'Source': 'Metacritic', 'Value': '48/100'}],\n",
      " 'Released': '13 Feb 2004',\n",
      " 'Response': 'True',\n",
      " 'Runtime': '99 min',\n",
      " 'Title': '50 First Dates',\n",
      " 'Type': 'movie',\n",
      " 'Website': 'http://www.sonypictures.com/movies/50firstdates/index.html',\n",
      " 'Writer': 'George Wing',\n",
      " 'Year': '2004',\n",
      " 'imdbID': 'tt0343660',\n",
      " 'imdbRating': '6.8',\n",
      " 'imdbVotes': '307,481'}\n"
     ]
    }
   ],
   "source": [
    "# What year was 50 First Dates released?\n",
    "url3='http://www.omdbapi.com/?apikey=Trilogy&t=\"50 First Dates\"'\n",
    "data2=requests.get(url3).json()\n",
    "pprint(data2)"
   ]
  },
  {
   "cell_type": "code",
   "execution_count": 35,
   "metadata": {},
   "outputs": [
    {
     "name": "stdout",
     "output_type": "stream",
     "text": [
      "2004\n"
     ]
    }
   ],
   "source": [
    "print(data2[\"Year\"])"
   ]
  },
  {
   "cell_type": "code",
   "execution_count": 37,
   "metadata": {
    "scrolled": true
   },
   "outputs": [
    {
     "name": "stdout",
     "output_type": "stream",
     "text": [
      "{'Actors': \"Auli'i Cravalho, Dwayne Johnson, Rachel House, Temuera Morrison\",\n",
      " 'Awards': 'Nominated for 2 Oscars. Another 18 wins & 83 nominations.',\n",
      " 'BoxOffice': '$248,752,120',\n",
      " 'Country': 'USA',\n",
      " 'DVD': '07 Mar 2017',\n",
      " 'Director': 'Ron Clements, John Musker, Don Hall(co-director), Chris '\n",
      "             'Williams(co-director)',\n",
      " 'Genre': 'Animation, Adventure, Comedy, Family, Fantasy, Musical',\n",
      " 'Language': 'English',\n",
      " 'Metascore': '81',\n",
      " 'Plot': 'In Ancient Polynesia, when a terrible curse incurred by the Demigod '\n",
      "         \"Maui reaches Moana's island, she answers the Ocean's call to seek \"\n",
      "         'out the Demigod to set things right.',\n",
      " 'Poster': 'https://m.media-amazon.com/images/M/MV5BMjI4MzU5NTExNF5BMl5BanBnXkFtZTgwNzY1MTEwMDI@._V1_SX300.jpg',\n",
      " 'Production': 'Walt Disney Pictures',\n",
      " 'Rated': 'PG',\n",
      " 'Ratings': [{'Source': 'Internet Movie Database', 'Value': '7.6/10'},\n",
      "             {'Source': 'Rotten Tomatoes', 'Value': '96%'},\n",
      "             {'Source': 'Metacritic', 'Value': '81/100'}],\n",
      " 'Released': '23 Nov 2016',\n",
      " 'Response': 'True',\n",
      " 'Runtime': '107 min',\n",
      " 'Title': 'Moana',\n",
      " 'Type': 'movie',\n",
      " 'Website': 'http://movies.disney.com/moana',\n",
      " 'Writer': 'Jared Bush (screenplay by), Ron Clements (story by), John Musker '\n",
      "           '(story by), Chris Williams (story by), Don Hall (story by), Pamela '\n",
      "           'Ribon (story by), Aaron Kandell (story by), Jordan Kandell (story '\n",
      "           'by)',\n",
      " 'Year': '2016',\n",
      " 'imdbID': 'tt3521164',\n",
      " 'imdbRating': '7.6',\n",
      " 'imdbVotes': '231,108'}\n"
     ]
    }
   ],
   "source": [
    "# Who wrote Moana?\n",
    "url4='http://www.omdbapi.com/?apikey=Trilogy&t=\"Moana\"'\n",
    "data3=requests.get(url4).json()\n",
    "pprint(data3)"
   ]
  },
  {
   "cell_type": "code",
   "execution_count": 38,
   "metadata": {},
   "outputs": [
    {
     "name": "stdout",
     "output_type": "stream",
     "text": [
      "Jared Bush (screenplay by), Ron Clements (story by), John Musker (story by), Chris Williams (story by), Don Hall (story by), Pamela Ribon (story by), Aaron Kandell (story by), Jordan Kandell (story by)\n"
     ]
    }
   ],
   "source": [
    "print(data3[\"Writer\"])"
   ]
  },
  {
   "cell_type": "code",
   "execution_count": 39,
   "metadata": {
    "scrolled": true
   },
   "outputs": [
    {
     "name": "stdout",
     "output_type": "stream",
     "text": [
      "{'Actors': 'Matthew McConaughey, Reese Witherspoon, Seth MacFarlane, Scarlett '\n",
      "           'Johansson',\n",
      " 'Awards': 'Nominated for 2 Golden Globes. Another 2 wins & 21 nominations.',\n",
      " 'BoxOffice': '$270,322,940',\n",
      " 'Country': 'Japan, USA',\n",
      " 'DVD': '21 Mar 2017',\n",
      " 'Director': 'Garth Jennings, Christophe Lourdelet(co-director)',\n",
      " 'Genre': 'Animation, Comedy, Family, Musical',\n",
      " 'Language': 'English, Japanese, Ukrainian',\n",
      " 'Metascore': '59',\n",
      " 'Plot': \"In a city of humanoid animals, a hustling theater impresario's \"\n",
      "         'attempt to save his theater with a singing competition becomes '\n",
      "         'grander than he anticipates even as its finalists find that their '\n",
      "         'lives will never be the same.',\n",
      " 'Poster': 'https://m.media-amazon.com/images/M/MV5BMTYzODYzODU2Ml5BMl5BanBnXkFtZTgwNTc1MTA2NzE@._V1_SX300.jpg',\n",
      " 'Production': 'Illumination Entertainment',\n",
      " 'Rated': 'PG',\n",
      " 'Ratings': [{'Source': 'Internet Movie Database', 'Value': '7.1/10'},\n",
      "             {'Source': 'Rotten Tomatoes', 'Value': '72%'},\n",
      "             {'Source': 'Metacritic', 'Value': '59/100'}],\n",
      " 'Released': '21 Dec 2016',\n",
      " 'Response': 'True',\n",
      " 'Runtime': '108 min',\n",
      " 'Title': 'Sing',\n",
      " 'Type': 'movie',\n",
      " 'Website': 'http://www.singmovie.com/',\n",
      " 'Writer': 'Garth Jennings',\n",
      " 'Year': '2016',\n",
      " 'imdbID': 'tt3470600',\n",
      " 'imdbRating': '7.1',\n",
      " 'imdbVotes': '119,300'}\n"
     ]
    }
   ],
   "source": [
    "# What was the plot of the movie Sing?\n",
    "url5='http://www.omdbapi.com/?apikey=Trilogy&t=\"Sing\"'\n",
    "data4=requests.get(url5).json()\n",
    "pprint(data4)"
   ]
  },
  {
   "cell_type": "code",
   "execution_count": 40,
   "metadata": {},
   "outputs": [
    {
     "name": "stdout",
     "output_type": "stream",
     "text": [
      "In a city of humanoid animals, a hustling theater impresario's attempt to save his theater with a singing competition becomes grander than he anticipates even as its finalists find that their lives will never be the same.\n"
     ]
    }
   ],
   "source": [
    "print(data4['Plot'])"
   ]
  },
  {
   "cell_type": "code",
   "execution_count": null,
   "metadata": {},
   "outputs": [],
   "source": []
  }
 ],
 "metadata": {
  "kernelspec": {
   "display_name": "Python 3",
   "language": "python",
   "name": "python3"
  },
  "language_info": {
   "codemirror_mode": {
    "name": "ipython",
    "version": 3
   },
   "file_extension": ".py",
   "mimetype": "text/x-python",
   "name": "python",
   "nbconvert_exporter": "python",
   "pygments_lexer": "ipython3",
   "version": "3.7.3"
  },
  "varInspector": {
   "cols": {
    "lenName": 16,
    "lenType": 16,
    "lenVar": 40
   },
   "kernels_config": {
    "python": {
     "delete_cmd_postfix": "",
     "delete_cmd_prefix": "del ",
     "library": "var_list.py",
     "varRefreshCmd": "print(var_dic_list())"
    },
    "r": {
     "delete_cmd_postfix": ") ",
     "delete_cmd_prefix": "rm(",
     "library": "var_list.r",
     "varRefreshCmd": "cat(var_dic_list()) "
    }
   },
   "types_to_exclude": [
    "module",
    "function",
    "builtin_function_or_method",
    "instance",
    "_Feature"
   ],
   "window_display": false
  }
 },
 "nbformat": 4,
 "nbformat_minor": 2
}
