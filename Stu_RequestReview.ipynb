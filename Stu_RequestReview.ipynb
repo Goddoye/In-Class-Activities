{
 "cells": [
  {
   "cell_type": "code",
   "execution_count": 2,
   "metadata": {},
   "outputs": [],
   "source": [
    "# Dependencies\n",
    "import json\n",
    "import requests "
   ]
  },
  {
   "cell_type": "code",
   "execution_count": 4,
   "metadata": {},
   "outputs": [],
   "source": [
    "# Specify the URL\n",
    "url = \"http://nyt-mongo-scraper.herokuapp.com/api/headlines\"\n",
    "\n",
    "# Make request and store response\n",
    "request=requests.get(url)"
   ]
  },
  {
   "cell_type": "code",
   "execution_count": 9,
   "metadata": {},
   "outputs": [
    {
     "data": {
      "text/plain": [
       "[{'saved': True,\n",
       "  '_id': '5d800984a4315f0015223e22',\n",
       "  'headline': 'Where Mexican Folk Ballads Meet Trap Music',\n",
       "  'summary': '“Trapcorridos” — tales of love, bandits, heroes and gangsters — are a sensation in California and Mexico.',\n",
       "  'url': 'https://www.nytimes.com/2019/09/16/style/trapcorridos-chicano-los-angeles.html',\n",
       "  'date': '2019-09-16T22:15:32.326Z',\n",
       "  '__v': 0},\n",
       " {'saved': True,\n",
       "  '_id': '5d800984a4315f0015223e23',\n",
       "  'headline': '‘He Stared at the Screen, and Then His Shoulders Slumped’',\n",
       "  'summary': 'Sympathetic words in an elevator, a sign from above and more reader tales of New York City in this week’s Metropolitan Diary.',\n",
       "  'url': 'https://www.nytimes.com/2019/09/15/nyregion/metropolitan-diary.html',\n",
       "  'date': '2019-09-16T22:15:32.326Z',\n",
       "  '__v': 0},\n",
       " {'saved': True,\n",
       "  '_id': '5d800984a4315f0015223e1f',\n",
       "  'headline': 'A Battlefield View of U.S. Strategy in Afghanistan',\n",
       "  'summary': '“Even as we want it all to stop, we know on one level that it won’t.” Our reporter, a Marine who fought in Afghanistan, reflects on an unending war.',\n",
       "  'url': 'https://www.nytimes.com/2019/09/16/world/middleeast/marja-trump-taliban-afghanistan-peace.html',\n",
       "  'date': '2019-09-16T22:15:32.325Z',\n",
       "  '__v': 0},\n",
       " {'saved': True,\n",
       "  '_id': '5d800984a4315f0015223e1d',\n",
       "  'headline': 'Age Isn’t Hurting 2020 Democratic Leaders, to Rivals’ ChagrinElizabeth Warren is holding a rally in Manhattan tonight to deliver a speech on battling corruption.',\n",
       "  'summary': 'Younger candidates are running as agents of generational change, but it is three septuagenarians who have emerged as the front-runners. And age-related attacks have not worked.',\n",
       "  'url': 'https://www.nytimes.com/2019/09/16/us/politics/democrats-biden-2020-age.html',\n",
       "  'date': '2019-09-16T22:15:32.325Z',\n",
       "  '__v': 0},\n",
       " {'saved': True,\n",
       "  '_id': '5d800984a4315f0015223e20',\n",
       "  'headline': 'The Cost of Running Guantánamo Bay: $13 Million Per Prisoner',\n",
       "  'summary': 'Set up nearly 18 years ago to house detainees in the war on terrorism, the prison on the remote naval base has grown into what appears to be the most expensive on earth.',\n",
       "  'url': 'https://www.nytimes.com/2019/09/16/us/politics/guantanamo-bay-cost-prison.html',\n",
       "  'date': '2019-09-16T22:15:32.325Z',\n",
       "  '__v': 0},\n",
       " {'saved': True,\n",
       "  '_id': '5d800984a4315f0015223e1e',\n",
       "  'headline': 'Senator Alerted F.B.I. to New Kavanaugh Allegation8 Years of Trump Tax Returns Are Subpoenaed by Manhattan D.A.',\n",
       "  'summary': 'A Democratic senator expressed concern last year that the F.B.I. was not following up on allegations against the Supreme Court nominee.Investigators demanded President Trump’s personal and corporate tax returns as they examine hush money paid to Stormy Daniels.',\n",
       "  'url': 'https://www.nytimes.com/2019/09/16/us/politics/kavanaugh-fbi.html',\n",
       "  'date': '2019-09-16T22:15:32.325Z',\n",
       "  '__v': 0},\n",
       " {'saved': True,\n",
       "  '_id': '5d800984a4315f0015223e1c',\n",
       "  'headline': 'Why This Scientist Keeps Receiving Packages of Serial Killers’ Hair',\n",
       "  'summary': 'Getting sufficient DNA out of a rootless hair has long been considered impossible. A scientist known for work with ancient fossils figured it out.',\n",
       "  'url': 'https://www.nytimes.com/2019/09/16/science/hair-dna-murder.html',\n",
       "  'date': '2019-09-16T22:15:32.324Z',\n",
       "  '__v': 0},\n",
       " {'saved': True,\n",
       "  '_id': '5d800984a4315f0015223e1b',\n",
       "  'headline': 'G.M. Hit With Nationwide Strike by 50,000 AutoworkersHere are answers to key questions about the General Motors strike.',\n",
       "  'summary': 'The union wants wages raised and idled plants reopened. The company wants employees to pay a greater portion of their health care costs.',\n",
       "  'url': 'https://www.nytimes.com/2019/09/15/business/autoworkers-union-general-motors.html',\n",
       "  'date': '2019-09-16T22:15:32.324Z',\n",
       "  '__v': 0},\n",
       " {'saved': True,\n",
       "  '_id': '5d800984a4315f0015223e1a',\n",
       "  'headline': 'Attacks Put Oil Market on Edge: ‘What if the Other Shoe Drops?’',\n",
       "  'summary': 'Supply disruptions and the risk of future attacks are likely to prop up energy prices, benefiting the industry and hurting consumers.',\n",
       "  'url': 'https://www.nytimes.com/2019/09/16/business/oil-prices-markets.html',\n",
       "  'date': '2019-09-16T22:15:32.322Z',\n",
       "  '__v': 0},\n",
       " {'saved': True,\n",
       "  '_id': '5d7fcca3b87d810015a74477',\n",
       "  'headline': 'Pam Grier on Maintaining Independence and Identity',\n",
       "  'summary': '“The power of ‘no’ is one thing I’ve learned,” the actress said about surviving in show business.',\n",
       "  'url': 'https://www.nytimes.com/interactive/2019/09/15/magazine/pam-grier-interview.html',\n",
       "  'date': '2019-09-16T17:55:47.424Z',\n",
       "  '__v': 0},\n",
       " {'saved': True,\n",
       "  '_id': '5d7fcca3b87d810015a74476',\n",
       "  'headline': 'He Was the Netflix C.E.O. Before ‘Netflix and Chill’',\n",
       "  'summary': 'A memoir by Marc Randolph, the company’s first boss, provides a blast from the entertainment giant’s red-envelope past.',\n",
       "  'url': 'https://www.nytimes.com/2019/09/15/business/media/netflix-chief-executive-reed-hastings-marc-randolph.html',\n",
       "  'date': '2019-09-16T17:55:47.424Z',\n",
       "  '__v': 0},\n",
       " {'saved': False,\n",
       "  '_id': '5d7fcca3b87d810015a74473',\n",
       "  'headline': 'Democrats’ Afghan Strategy Sounds Familiar. It’s a Lot Like Trump’s.Working Families Party Endorses Warren',\n",
       "  'summary': 'Candidates have one major goal for Afghanistan: Get out. They are struggling to differentiate themselves from President Trump’s view of American power.The progressive group, whose influence has grown since it backed Senator Bernie Sanders in 2016, is supporting Senator Elizabeth Warren.',\n",
       "  'url': 'https://www.nytimes.com/2019/09/16/us/politics/2020-democrats-afghanistan.html',\n",
       "  'date': '2019-09-16T17:55:47.423Z',\n",
       "  '__v': 0},\n",
       " {'saved': False,\n",
       "  '_id': '5d7fcca3b87d810015a74470',\n",
       "  'headline': 'G.M. Hit With Nationwide Strike by 50,000 AutoworkersHere are answers to four key questions about the General Motors strike.',\n",
       "  'summary': 'The union wants wages raised and idled plants reopened. The company wants employees to pay a greater portion of their health care costs.',\n",
       "  'url': 'https://www.nytimes.com/2019/09/15/business/autoworkers-union-general-motors.html',\n",
       "  'date': '2019-09-16T17:55:47.422Z',\n",
       "  '__v': 0},\n",
       " {'saved': False,\n",
       "  '_id': '5d7fcca3b87d810015a74471',\n",
       "  'headline': 'The M.T.A.’s $54 Billion Plan to Transform Your Commute',\n",
       "  'summary': 'Modern subway signals, new elevators and an extension of the Second Avenue line: The New York City transit agency released its five-year wish list.',\n",
       "  'url': 'https://www.nytimes.com/2019/09/16/nyregion/mta-budget-subway.html',\n",
       "  'date': '2019-09-16T17:55:47.422Z',\n",
       "  '__v': 0},\n",
       " {'saved': False,\n",
       "  '_id': '5d7fa2f1b87d810015a7446b',\n",
       "  'headline': 'Biden Has Deep Connection to Black Voters. Will It Turn Into Votes?Here are three questions (and answers) about Mr. Biden’s candidacy.',\n",
       "  'summary': 'Joe Biden leads among African-Americans, and older black voters admire him. But it’s not “locked down,” one strategist said.',\n",
       "  'url': 'https://www.nytimes.com/2019/09/15/us/politics/joe-biden-black-voters.html',\n",
       "  'date': '2019-09-16T14:57:53.762Z',\n",
       "  '__v': 0},\n",
       " {'saved': False,\n",
       "  '_id': '5d7fa2f1b87d810015a7446a',\n",
       "  'headline': 'Israeli Election Could Hinge on Ugly Breakup of an Odd CoupleIsraelis will vote Tuesday for the second time in five months. Will it be déjà vu or a chance for change?',\n",
       "  'summary': 'For Prime Minister Benjamin Netanyahu and his former deputy Avigdor Liberman, Israel’s do-over election will cap a love-hate saga of three decades.',\n",
       "  'url': 'https://www.nytimes.com/2019/09/16/world/middleeast/netanyahu-liberman-israel-election.html',\n",
       "  'date': '2019-09-16T14:57:53.762Z',\n",
       "  '__v': 0},\n",
       " {'saved': False,\n",
       "  '_id': '5d7fa2f1b87d810015a74466',\n",
       "  'headline': 'Houthi Forces in Yemen Warn of More Attacks on Saudi Oil SystemsThe attacks had a short-term effect on prices, but a severe shock to energy markets and the world economy is unlikely.',\n",
       "  'summary': 'American officials blamed Iran for the attacks that slashed Saudi production, but the Houthi faction, allied with Iran, claimed responsibility.',\n",
       "  'url': 'https://www.nytimes.com/2019/09/16/world/middleeast/houthis-yemen-saudi-arabia-warning.html',\n",
       "  'date': '2019-09-16T14:57:53.761Z',\n",
       "  '__v': 0},\n",
       " {'saved': True,\n",
       "  '_id': '5d7f9193b87d810015a74465',\n",
       "  'headline': 'What We Learned in N.F.L. Week 2',\n",
       "  'summary': 'Quarterbacks are fragile, referees are fallible and advice can be dangerous. It was a fun but not particularly eventful week.',\n",
       "  'url': 'https://www.nytimes.com/2019/09/16/sports/football/nfl-week-2-scores.html',\n",
       "  'date': '2019-09-16T13:43:47.331Z',\n",
       "  '__v': 0},\n",
       " {'saved': False,\n",
       "  '_id': '5d7f9193b87d810015a74463',\n",
       "  'headline': 'Where There Are Fish in the Tap Water and Women’s Uteruses Fall Out',\n",
       "  'summary': 'Daily life in the forgotten war zone of eastern Ukraine.',\n",
       "  'url': 'https://www.nytimes.com/2019/09/16/opinion/eastern-ukraine-russia-conflict-.html',\n",
       "  'date': '2019-09-16T13:43:47.330Z',\n",
       "  '__v': 0},\n",
       " {'saved': False,\n",
       "  '_id': '5d7f9193b87d810015a74462',\n",
       "  'headline': '65 Block Parties, 5 Boroughs, 20 Photographers',\n",
       "  'summary': 'Join New Yorkers from Brooklyn to the Bronx as they dance, eat and play in the streets.',\n",
       "  'url': 'https://www.nytimes.com/interactive/2019/09/15/nyregion/block-parties-nyc.html',\n",
       "  'date': '2019-09-16T13:43:47.330Z',\n",
       "  '__v': 0},\n",
       " {'saved': False,\n",
       "  '_id': '5d7f9193b87d810015a74464',\n",
       "  'headline': 'In Montauk, a Garden Runs Delightfully Amok',\n",
       "  'summary': 'At their weekend home on the outer edge of Long Island, the designers behind the firm Roman and Williams let nature lead.',\n",
       "  'url': 'https://www.nytimes.com/2019/09/16/t-magazine/roman-williams-garden.html',\n",
       "  'date': '2019-09-16T13:43:47.330Z',\n",
       "  '__v': 0},\n",
       " {'saved': False,\n",
       "  '_id': '5d7f9193b87d810015a7445f',\n",
       "  'headline': 'Purdue Pharma Files for Chapter 11 Bankruptcy',\n",
       "  'summary': 'The filing is a centerpiece of the settlement of thousands of cases against the company for its role in the opioid crisis. It is expected to be contested by many states.',\n",
       "  'url': 'https://www.nytimes.com/2019/09/15/health/purdue-pharma-bankruptcy-opioids-settlement.html',\n",
       "  'date': '2019-09-16T13:43:47.329Z',\n",
       "  '__v': 0},\n",
       " {'saved': False,\n",
       "  '_id': '5d7f9193b87d810015a74460',\n",
       "  'headline': 'Ugly Breakup of Israel’s Odd Couple Could Turn an ElectionIsraelis will vote on Tuesday for the second time in five months. Will it be déjà vu or a chance for change?',\n",
       "  'summary': 'For Prime Minister Benjamin Netanyahu and his former deputy Avigdor Liberman, Israel’s do-over election will cap a love-hate saga of three decades.',\n",
       "  'url': 'https://www.nytimes.com/2019/09/16/world/middleeast/netanyahu-liberman-israel-election.html',\n",
       "  'date': '2019-09-16T13:43:47.329Z',\n",
       "  '__v': 0},\n",
       " {'saved': False,\n",
       "  '_id': '5d7f9193b87d810015a74461',\n",
       "  'headline': 'Biden Has Deep Ties to Black Voters. Will It Turn Into Votes?Here are three questions (and answers) about Mr. Biden’s candidacy.',\n",
       "  'summary': 'Joe Biden leads among African-Americans, and older black voters admire him. But it’s not “locked down,” one strategist said.',\n",
       "  'url': 'https://www.nytimes.com/2019/09/15/us/politics/joe-biden-black-voters.html',\n",
       "  'date': '2019-09-16T13:43:47.329Z',\n",
       "  '__v': 0},\n",
       " {'saved': False,\n",
       "  '_id': '5d7f9193b87d810015a7445e',\n",
       "  'headline': 'Autoworkers’ Union Goes on Strike Against G.M.',\n",
       "  'summary': 'Nearly 50,000 members at General Motors factories across the Midwest and South are headed to the picket lines Monday morning.',\n",
       "  'url': 'https://www.nytimes.com/2019/09/15/business/autoworkers-union-general-motors.html',\n",
       "  'date': '2019-09-16T13:43:47.328Z',\n",
       "  '__v': 0},\n",
       " {'saved': False,\n",
       "  '_id': '5d7f9193b87d810015a7445c',\n",
       "  'headline': 'Houthi Forces in Yemen Warn of More Attacks on Saudi Oil SystemsThe attacks had a short-term impact on oil prices, but a severe shock to energy markets and the world economy is unlikely.',\n",
       "  'summary': 'American officials have blamed Iran for the attacks that slashed Saudi production, but the Houthi faction, allied with Iran, claimed responsibility.',\n",
       "  'url': 'https://www.nytimes.com/2019/09/16/world/middleeast/houthis-yemen-saudi-arabia-warning.html',\n",
       "  'date': '2019-09-16T13:43:47.327Z',\n",
       "  '__v': 0}]"
      ]
     },
     "execution_count": 9,
     "metadata": {},
     "output_type": "execute_result"
    }
   ],
   "source": [
    "# JSON-ify response\n",
    "response=request.json()\n",
    "response"
   ]
  },
  {
   "cell_type": "code",
   "execution_count": 13,
   "metadata": {
    "scrolled": true
   },
   "outputs": [
    {
     "name": "stdout",
     "output_type": "stream",
     "text": [
      "The first response is {\n",
      "  \"saved\": true,\n",
      "  \"_id\": \"5d800984a4315f0015223e22\",\n",
      "  \"headline\": \"Where Mexican Folk Ballads Meet Trap Music\",\n",
      "  \"summary\": \"\\u201cTrapcorridos\\u201d \\u2014 tales of love, bandits, heroes and gangsters \\u2014 are a sensation in California and Mexico.\",\n",
      "  \"url\": \"https://www.nytimes.com/2019/09/16/style/trapcorridos-chicano-los-angeles.html\",\n",
      "  \"date\": \"2019-09-16T22:15:32.326Z\",\n",
      "  \"__v\": 0\n",
      "}.\n",
      "The last response is {\n",
      "  \"saved\": false,\n",
      "  \"_id\": \"5d7f9193b87d810015a7445c\",\n",
      "  \"headline\": \"Houthi Forces in Yemen Warn of More Attacks on Saudi Oil SystemsThe attacks had a short-term impact on oil prices, but a severe shock to energy markets and the world economy is unlikely.\",\n",
      "  \"summary\": \"American officials have blamed Iran for the attacks that slashed Saudi production, but the Houthi faction, allied with Iran, claimed responsibility.\",\n",
      "  \"url\": \"https://www.nytimes.com/2019/09/16/world/middleeast/houthis-yemen-saudi-arabia-warning.html\",\n",
      "  \"date\": \"2019-09-16T13:43:47.327Z\",\n",
      "  \"__v\": 0\n",
      "}.\n"
     ]
    }
   ],
   "source": [
    "# Print first and last articles\n",
    "print(f\"The first response is {json.dumps(response[0], indent=2)}.\")\n",
    "print(f\"The last response is {json.dumps(response[-1], indent=2)}.\")"
   ]
  },
  {
   "cell_type": "code",
   "execution_count": 14,
   "metadata": {},
   "outputs": [
    {
     "name": "stdout",
     "output_type": "stream",
     "text": [
      "26\n"
     ]
    }
   ],
   "source": [
    "#Print the number of responses received.\n",
    "print(len(response))"
   ]
  }
 ],
 "metadata": {
  "kernelspec": {
   "display_name": "Python 3",
   "language": "python",
   "name": "python3"
  },
  "language_info": {
   "codemirror_mode": {
    "name": "ipython",
    "version": 3
   },
   "file_extension": ".py",
   "mimetype": "text/x-python",
   "name": "python",
   "nbconvert_exporter": "python",
   "pygments_lexer": "ipython3",
   "version": "3.7.3"
  },
  "varInspector": {
   "cols": {
    "lenName": 16,
    "lenType": 16,
    "lenVar": 40
   },
   "kernels_config": {
    "python": {
     "delete_cmd_postfix": "",
     "delete_cmd_prefix": "del ",
     "library": "var_list.py",
     "varRefreshCmd": "print(var_dic_list())"
    },
    "r": {
     "delete_cmd_postfix": ") ",
     "delete_cmd_prefix": "rm(",
     "library": "var_list.r",
     "varRefreshCmd": "cat(var_dic_list()) "
    }
   },
   "types_to_exclude": [
    "module",
    "function",
    "builtin_function_or_method",
    "instance",
    "_Feature"
   ],
   "window_display": false
  }
 },
 "nbformat": 4,
 "nbformat_minor": 2
}
