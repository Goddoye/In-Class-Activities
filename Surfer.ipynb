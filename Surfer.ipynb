{
 "cells": [
  {
   "cell_type": "code",
   "execution_count": 14,
   "metadata": {},
   "outputs": [],
   "source": [
    "# Define the Surfer Class\n",
    "class Surfer():\n",
    "    \n",
    "    def __init__(self,name,hometown,rank):\n",
    "        self.name=name\n",
    "        self.hometown=hometown\n",
    "        self.rank=rank"
   ]
  },
  {
   "cell_type": "code",
   "execution_count": 15,
   "metadata": {},
   "outputs": [],
   "source": [
    "# Create an instance of the Surfer Class\n",
    "Chadwick= Surfer(\"Chadwick\",\"Santa Barbra\",1)"
   ]
  },
  {
   "cell_type": "code",
   "execution_count": 16,
   "metadata": {},
   "outputs": [
    {
     "name": "stdout",
     "output_type": "stream",
     "text": [
      "Chadwick\n",
      "Santa Barbra\n",
      "1\n"
     ]
    }
   ],
   "source": [
    "# Print the object's attributes\n",
    "print(Chadwick.name)\n",
    "print(Chadwick.hometown)\n",
    "print(Chadwick.rank)"
   ]
  },
  {
   "cell_type": "code",
   "execution_count": 22,
   "metadata": {},
   "outputs": [
    {
     "name": "stdout",
     "output_type": "stream",
     "text": [
      "What is the surfers name? Chadwick\n",
      "What is the hometown of the Surfer? Santa Barbra\n",
      "What is the rank of the surfer? 1\n",
      "Your surfers name is Chadwick\n",
      "Santa Barbra\n",
      "1\n",
      "Would you like to look insert another Surfer? (Y/N)? N\n"
     ]
    }
   ],
   "source": [
    "# ----BONUS----\n",
    "# Variable to keep track of changes to while loop\n",
    "go= True\n",
    "\n",
    "while go:\n",
    "    name=input(\"What is the surfers name? \")\n",
    "    hometown=input(\"What is the hometown of the Surfer? \")\n",
    "    rank=input(\"What is the rank of the surfer? \")\n",
    "    \n",
    "    surfer=Surfer(name,hometown,rank)\n",
    "    \n",
    "    print(f'Your surfers name is {surfer.name}')\n",
    "    print(surfer.hometown)\n",
    "    print(surfer.rank)\n",
    "    \n",
    "    check=input(\"Would you like to look insert another Surfer? (Y/N)? \")\n",
    "    \n",
    "    if (check.upper == \"Y\"):\n",
    "        go = True\n",
    "        \n",
    "    else:\n",
    "        go=False"
   ]
  },
  {
   "cell_type": "code",
   "execution_count": null,
   "metadata": {},
   "outputs": [],
   "source": []
  }
 ],
 "metadata": {
  "kernelspec": {
   "display_name": "Python 3",
   "language": "python",
   "name": "python3"
  },
  "language_info": {
   "codemirror_mode": {
    "name": "ipython",
    "version": 3
   },
   "file_extension": ".py",
   "mimetype": "text/x-python",
   "name": "python",
   "nbconvert_exporter": "python",
   "pygments_lexer": "ipython3",
   "version": "3.7.3"
  },
  "varInspector": {
   "cols": {
    "lenName": 16,
    "lenType": 16,
    "lenVar": 40
   },
   "kernels_config": {
    "python": {
     "delete_cmd_postfix": "",
     "delete_cmd_prefix": "del ",
     "library": "var_list.py",
     "varRefreshCmd": "print(var_dic_list())"
    },
    "r": {
     "delete_cmd_postfix": ") ",
     "delete_cmd_prefix": "rm(",
     "library": "var_list.r",
     "varRefreshCmd": "cat(var_dic_list()) "
    }
   },
   "types_to_exclude": [
    "module",
    "function",
    "builtin_function_or_method",
    "instance",
    "_Feature"
   ],
   "window_display": false
  }
 },
 "nbformat": 4,
 "nbformat_minor": 2
}
