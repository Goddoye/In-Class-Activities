{
 "cells": [
  {
   "cell_type": "code",
   "execution_count": 27,
   "metadata": {},
   "outputs": [],
   "source": [
    "# Define the Surfer Class\n",
    "class Surfer():\n",
    "    \n",
    "    def __init__(self, name, hometown, rank, wipeout):\n",
    "        self.name=name\n",
    "        self.hometown=hometown\n",
    "        self.rank=rank\n",
    "        self.wipeout=wipeout\n",
    "        \n",
    "    def speak(self):\n",
    "        print(f\"{surfer.name}, Hangs loose, brah\")\n",
    "    \n",
    "    def biography(self):\n",
    "        print(f\"{surfer.name}, Hometown is {surfer.hometown}\")\n",
    "    \n",
    "    def cheer(self):\n",
    "        if surfer.wipeout == 0:\n",
    "            print(f\"{surfer.name} totally rocks man, he has no wipeouts\")\n",
    "        else:\n",
    "            print(f\"{surfer.name} has {surfer.wipeout} wipeouts\")"
   ]
  },
  {
   "cell_type": "code",
   "execution_count": 30,
   "metadata": {},
   "outputs": [],
   "source": [
    "surfer=Surfer(\"Chadwick\", \"Santa Barbara\",1,10)"
   ]
  },
  {
   "cell_type": "code",
   "execution_count": 15,
   "metadata": {},
   "outputs": [
    {
     "name": "stdout",
     "output_type": "stream",
     "text": [
      "Chadwick, Hangs loose, brah\n"
     ]
    }
   ],
   "source": [
    "surfer.speak()"
   ]
  },
  {
   "cell_type": "code",
   "execution_count": 19,
   "metadata": {},
   "outputs": [
    {
     "name": "stdout",
     "output_type": "stream",
     "text": [
      "Chadwick, Hometown is Santa Barbara\n"
     ]
    }
   ],
   "source": [
    "surfer.biography()"
   ]
  },
  {
   "cell_type": "code",
   "execution_count": 31,
   "metadata": {},
   "outputs": [
    {
     "name": "stdout",
     "output_type": "stream",
     "text": [
      "Chadwick has 10 wipeouts\n"
     ]
    }
   ],
   "source": [
    "surfer.cheer()"
   ]
  }
 ],
 "metadata": {
  "kernelspec": {
   "display_name": "Python 3",
   "language": "python",
   "name": "python3"
  },
  "language_info": {
   "codemirror_mode": {
    "name": "ipython",
    "version": 3
   },
   "file_extension": ".py",
   "mimetype": "text/x-python",
   "name": "python",
   "nbconvert_exporter": "python",
   "pygments_lexer": "ipython3",
   "version": "3.7.3"
  },
  "varInspector": {
   "cols": {
    "lenName": 16,
    "lenType": 16,
    "lenVar": 40
   },
   "kernels_config": {
    "python": {
     "delete_cmd_postfix": "",
     "delete_cmd_prefix": "del ",
     "library": "var_list.py",
     "varRefreshCmd": "print(var_dic_list())"
    },
    "r": {
     "delete_cmd_postfix": ") ",
     "delete_cmd_prefix": "rm(",
     "library": "var_list.r",
     "varRefreshCmd": "cat(var_dic_list()) "
    }
   },
   "types_to_exclude": [
    "module",
    "function",
    "builtin_function_or_method",
    "instance",
    "_Feature"
   ],
   "window_display": false
  }
 },
 "nbformat": 4,
 "nbformat_minor": 2
}
