{
 "cells": [
  {
   "cell_type": "code",
   "execution_count": 1,
   "metadata": {},
   "outputs": [],
   "source": [
    "import json\n",
    "import requests\n",
    "import pandas as pd"
   ]
  },
  {
   "cell_type": "code",
   "execution_count": 13,
   "metadata": {},
   "outputs": [
    {
     "name": "stdout",
     "output_type": "stream",
     "text": [
      "R2-D2 found. Adding to stats\n",
      "Darth Vader found. Adding to stats\n",
      "Character not found\n",
      "Luke Skywalker found. Adding to stats\n",
      "Character not found\n",
      "Boba Fett found. Adding to stats\n",
      "Character not found\n",
      "Character not found\n",
      "Han Solo found. Adding to stats\n"
     ]
    }
   ],
   "source": [
    "# List of character\n",
    "search_characters = ['R2-D2', 'Darth Vader', 'Godzilla', 'Luke Skywalker', 'Frodo', \\\n",
    "              'Boba Fett', 'Iron Man', 'Jon Snow', 'Han Solo']\n",
    "\n",
    "# Set url for API\n",
    "url = 'https://swapi.co/api/people/?search='\n",
    "\n",
    "# Set empty lists to hold characters height and mass\n",
    "height = []\n",
    "mass = []\n",
    "starwars_characters = []\n",
    "\n",
    "# Loop through each character and make API request\n",
    "for character in search_characters:\n",
    "\n",
    "    # Create search query, make request and store in json\n",
    "    target_url = url + character\n",
    "    request=requests.get(target_url)\n",
    "    response_json=request.json()    \n",
    "    \n",
    "    # Try to grab the height and mass of characters if they are available in the Star Wars API\n",
    "    try:\n",
    "        height.append(response_json[\"results\"][0][\"height\"])\n",
    "        mass.append(response_json[\"results\"][0][\"mass\"])\n",
    "        starwars_characters.append(character)\n",
    "        print(f\"{character} found. Adding to stats\")\n",
    "        \n",
    "    # Handle exceptions for a character that is not available in the Star Wars API\n",
    "    except: \n",
    "        # Append null values\n",
    "        print(\"Character not found\")\n",
    "        pass"
   ]
  },
  {
   "cell_type": "code",
   "execution_count": 11,
   "metadata": {},
   "outputs": [
    {
     "data": {
      "text/plain": [
       "{'name': 'Han Solo',\n",
       " 'height': '180',\n",
       " 'mass': '80',\n",
       " 'hair_color': 'brown',\n",
       " 'skin_color': 'fair',\n",
       " 'eye_color': 'brown',\n",
       " 'birth_year': '29BBY',\n",
       " 'gender': 'male',\n",
       " 'homeworld': 'https://swapi.co/api/planets/22/',\n",
       " 'films': ['https://swapi.co/api/films/2/',\n",
       "  'https://swapi.co/api/films/3/',\n",
       "  'https://swapi.co/api/films/1/',\n",
       "  'https://swapi.co/api/films/7/'],\n",
       " 'species': ['https://swapi.co/api/species/1/'],\n",
       " 'vehicles': [],\n",
       " 'starships': ['https://swapi.co/api/starships/10/',\n",
       "  'https://swapi.co/api/starships/22/'],\n",
       " 'created': '2014-12-10T16:49:14.582000Z',\n",
       " 'edited': '2014-12-20T21:17:50.334000Z',\n",
       " 'url': 'https://swapi.co/api/people/14/'}"
      ]
     },
     "execution_count": 11,
     "metadata": {},
     "output_type": "execute_result"
    }
   ],
   "source": [
    "response_json[\"results\"][0]"
   ]
  },
  {
   "cell_type": "code",
   "execution_count": 15,
   "metadata": {},
   "outputs": [
    {
     "data": {
      "text/html": [
       "<div>\n",
       "<style scoped>\n",
       "    .dataframe tbody tr th:only-of-type {\n",
       "        vertical-align: middle;\n",
       "    }\n",
       "\n",
       "    .dataframe tbody tr th {\n",
       "        vertical-align: top;\n",
       "    }\n",
       "\n",
       "    .dataframe thead th {\n",
       "        text-align: right;\n",
       "    }\n",
       "</style>\n",
       "<table border=\"1\" class=\"dataframe\">\n",
       "  <thead>\n",
       "    <tr style=\"text-align: right;\">\n",
       "      <th></th>\n",
       "      <th>Character</th>\n",
       "      <th>Height</th>\n",
       "      <th>Mass</th>\n",
       "    </tr>\n",
       "  </thead>\n",
       "  <tbody>\n",
       "    <tr>\n",
       "      <th>0</th>\n",
       "      <td>R2-D2</td>\n",
       "      <td>96</td>\n",
       "      <td>32</td>\n",
       "    </tr>\n",
       "    <tr>\n",
       "      <th>1</th>\n",
       "      <td>Darth Vader</td>\n",
       "      <td>202</td>\n",
       "      <td>136</td>\n",
       "    </tr>\n",
       "    <tr>\n",
       "      <th>2</th>\n",
       "      <td>Luke Skywalker</td>\n",
       "      <td>172</td>\n",
       "      <td>77</td>\n",
       "    </tr>\n",
       "    <tr>\n",
       "      <th>3</th>\n",
       "      <td>Boba Fett</td>\n",
       "      <td>183</td>\n",
       "      <td>78.2</td>\n",
       "    </tr>\n",
       "    <tr>\n",
       "      <th>4</th>\n",
       "      <td>Han Solo</td>\n",
       "      <td>180</td>\n",
       "      <td>80</td>\n",
       "    </tr>\n",
       "  </tbody>\n",
       "</table>\n",
       "</div>"
      ],
      "text/plain": [
       "        Character Height  Mass\n",
       "0           R2-D2     96    32\n",
       "1     Darth Vader    202   136\n",
       "2  Luke Skywalker    172    77\n",
       "3       Boba Fett    183  78.2\n",
       "4        Han Solo    180    80"
      ]
     },
     "execution_count": 15,
     "metadata": {},
     "output_type": "execute_result"
    }
   ],
   "source": [
    "# Create DataFrame\n",
    "starwars_dict={\"Character\":starwars_characters,\n",
    "              \"Height\":height,\n",
    "              \"Mass\":mass}\n",
    "\n",
    "starwars_df=pd.DataFrame(starwars_dict)\n",
    "starwars_df"
   ]
  }
 ],
 "metadata": {
  "kernelspec": {
   "display_name": "Python 3",
   "language": "python",
   "name": "python3"
  },
  "language_info": {
   "codemirror_mode": {
    "name": "ipython",
    "version": 3
   },
   "file_extension": ".py",
   "mimetype": "text/x-python",
   "name": "python",
   "nbconvert_exporter": "python",
   "pygments_lexer": "ipython3",
   "version": "3.7.3"
  },
  "latex_envs": {
   "LaTeX_envs_menu_present": true,
   "autoclose": false,
   "autocomplete": true,
   "bibliofile": "biblio.bib",
   "cite_by": "apalike",
   "current_citInitial": 1,
   "eqLabelWithNumbers": true,
   "eqNumInitial": 1,
   "hotkeys": {
    "equation": "Ctrl-E",
    "itemize": "Ctrl-I"
   },
   "labels_anchors": false,
   "latex_user_defs": false,
   "report_style_numbering": false,
   "user_envs_cfg": false
  }
 },
 "nbformat": 4,
 "nbformat_minor": 2
}
